{
 "cells": [
  {
   "cell_type": "markdown",
   "id": "9a368f7e",
   "metadata": {},
   "source": [
    "2.1 Linear transformations\n",
    "$$ y = Ax $$"
   ]
  },
  {
   "cell_type": "markdown",
   "id": "c1f68c4e",
   "metadata": {},
   "source": [
    "2.2 Rotation in 2D\n",
    " $$ \\bf p' = R(\\theta)\\bf p $$\n",
    " "
   ]
  },
  {
   "cell_type": "markdown",
   "id": "08b7a83c",
   "metadata": {},
   "source": [
    "$$ R(\\theta) = \\begin{bmatrix} \\cos \\theta & -\\sin \\theta \\\\ \n",
    " \\sin \\theta & \\cos \\theta \\end{bmatrix} $$"
   ]
  }
 ],
 "metadata": {
  "kernelspec": {
   "display_name": ".venv",
   "language": "python",
   "name": "python3"
  },
  "language_info": {
   "codemirror_mode": {
    "name": "ipython",
    "version": 3
   },
   "file_extension": ".py",
   "mimetype": "text/x-python",
   "name": "python",
   "nbconvert_exporter": "python",
   "pygments_lexer": "ipython3",
   "version": "3.12.3"
  }
 },
 "nbformat": 4,
 "nbformat_minor": 5
}
