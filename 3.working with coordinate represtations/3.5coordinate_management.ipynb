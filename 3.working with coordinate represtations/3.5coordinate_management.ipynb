{
 "cells": [
  {
   "cell_type": "markdown",
   "id": "cc00a72b",
   "metadata": {},
   "source": [
    "# 3.5 Coordinate Management \n",
    "\n",
    "복잡한 로봇 시스템에서는 수많은 좌표계가 존재한다. 각 관절, 센서, 링크마다 따로 좌표계를 가지기 때문에, 좌표값을 잘못 해석하면 큰 오류가 발생할 수 있다.\n",
    "\n",
    "---\n",
    "\n",
    "**좌표값을 해석할 때 중요한 3가지**\n",
    "\n",
    "1. **어느 좌표계**에 속해 있는가?\n",
    "2. **단위**는 무엇인가? (ex: m, cm, mm)\n",
    "3. **위치인지, 방향인지?**\n",
    "\n",
    "---\n",
    "\n",
    "**좌표계 관리 시스템**\n",
    "\n",
    "대표적 예시: **ROS의 tf 모듈**, **Klamp’t의 coordinates 모듈**\n",
    "\n",
    "- 좌표값에 **좌표계 정보와 방향/위치 여부**를 함께 저장\n",
    "- 모든 좌표계 간의 관계를 **그래프**로 저장하고 자동으로 변환\n"
   ]
  }
 ],
 "metadata": {
  "kernelspec": {
   "display_name": ".venv",
   "language": "python",
   "name": "python3"
  },
  "language_info": {
   "codemirror_mode": {
    "name": "ipython",
    "version": 3
   },
   "file_extension": ".py",
   "mimetype": "text/x-python",
   "name": "python",
   "nbconvert_exporter": "python",
   "pygments_lexer": "ipython3",
   "version": "3.12.3"
  }
 },
 "nbformat": 4,
 "nbformat_minor": 5
}
