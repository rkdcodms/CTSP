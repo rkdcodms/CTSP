{
 "cells": [
  {
   "cell_type": "markdown",
   "id": "83c7580f",
   "metadata": {},
   "source": [
    "### 1.\n",
    " Calculate the matrices representing  +90∘,  +180∘, and  −90∘ 2D rotations."
   ]
  },
  {
   "cell_type": "markdown",
   "id": "3c1d7a7f",
   "metadata": {},
   "source": [
    "$$ R(\\theta) = \\begin{bmatrix} \\cos \\theta & -\\sin \\theta \\\\ \n",
    " \\sin \\theta & \\cos \\theta \\end{bmatrix} $$\n",
    "  "
   ]
  },
  {
   "cell_type": "markdown",
   "id": "9ac199b9",
   "metadata": {},
   "source": [
    "1-1 +90∘\n",
    "$$ R(\\theta) = \\begin{bmatrix} \\cos +90∘ & -\\sin +90∘ \\\\ \n",
    " \\sin +90∘ & \\cos +90∘ \\end{bmatrix} = \\begin{bmatrix} 0 & -1 \\\\ 1 & 0 \\end{bmatrix}$$"
   ]
  },
  {
   "cell_type": "code",
   "execution_count": 1,
   "id": "7eadbcb6",
   "metadata": {},
   "outputs": [
    {
     "name": "stdout",
     "output_type": "stream",
     "text": [
      "Rotation Matrix for 90°:\n",
      "[[ 0. -1.]\n",
      " [ 1.  0.]]\n",
      "\n",
      "Rotation Matrix for 180°:\n",
      "[[-1. -0.]\n",
      " [ 0. -1.]]\n",
      "\n",
      "Rotation Matrix for -90°:\n",
      "[[ 0.  1.]\n",
      " [-1.  0.]]\n",
      "\n"
     ]
    }
   ],
   "source": [
    "import numpy as np\n",
    "\n",
    "def rotation_matrix(degrees):\n",
    "    radians = np.radians(degrees)\n",
    "    c = np.cos(radians)\n",
    "    s = np.sin(radians)\n",
    "    R = np.array([\n",
    "        [c, -s],\n",
    "        [s,  c]\n",
    "    ])\n",
    "    return R\n",
    "\n",
    "# Define angles\n",
    "angles = [+90, +180, -90]\n",
    "\n",
    "# Calculate and print matrices\n",
    "for angle in angles:\n",
    "    R = rotation_matrix(angle)\n",
    "    print(f\"Rotation Matrix for {angle}°:\")\n",
    "    print(np.round(R, decimals=3))\n",
    "    print()"
   ]
  },
  {
   "cell_type": "markdown",
   "id": "cf9c0d47",
   "metadata": {},
   "source": [
    "### 2. \n",
    "Prove that  $R(θ)^{-1} = R(−θ)$ using linear algebra and geometric identities."
   ]
  },
  {
   "cell_type": "markdown",
   "id": "d78785fc",
   "metadata": {},
   "source": [
    "Pf)\n",
    "$$\n",
    "R(\\theta) =\n",
    "\\begin{bmatrix}\n",
    "\\cos\\theta & -\\sin\\theta \\\\\\\\\n",
    "\\sin\\theta & \\cos\\theta\n",
    "\\end{bmatrix}\n",
    "$$\n",
    "\n",
    "Rotation by $-\\theta$ is:\n",
    "\n",
    "$$\n",
    "R(-\\theta) =\n",
    "\\begin{bmatrix}\n",
    "\\cos(-\\theta) & -\\sin(-\\theta) \\\\\\\\\n",
    "\\sin(-\\theta) & \\cos(-\\theta)\n",
    "\\end{bmatrix}\n",
    "=\n",
    "\\begin{bmatrix}\n",
    "\\cos\\theta & \\sin\\theta \\\\\\\\\n",
    "-\\sin\\theta & \\cos\\theta\n",
    "\\end{bmatrix}\n",
    "$$\n",
    "\n",
    "(using $\\cos(-\\theta) = \\cos\\theta$, $\\sin(-\\theta) = -\\sin\\theta$)\n",
    "For a $2 \\times 2$ matrix:\n",
    "\n",
    "$$\n",
    "A = \\begin{bmatrix}\n",
    "a & b \\\\\\\\\n",
    "c & d\n",
    "\\end{bmatrix}, \\quad\n",
    "A^{-1} = \\frac{1}{ad - bc}\n",
    "\\begin{bmatrix}\n",
    "d & -b \\\\\\\\\n",
    "-c & a\n",
    "\\end{bmatrix}\n",
    "$$\n",
    "\n",
    "Apply to $R(\\theta)$:\n",
    "\n",
    "$$\n",
    "R(\\theta) =\n",
    "\\begin{bmatrix}\n",
    "\\cos\\theta & -\\sin\\theta \\\\\\\\\n",
    "\\sin\\theta & \\cos\\theta\n",
    "\\end{bmatrix}\n",
    "$$\n",
    "\n",
    "Determinant:\n",
    "\n",
    "$$\n",
    "\\det(R(\\theta)) = \\cos^2\\theta + \\sin^2\\theta = 1\n",
    "$$\n",
    "\n",
    "So the inverse is:\n",
    "\n",
    "$$\n",
    "R(\\theta)^{-1} =\n",
    "\\begin{bmatrix}\n",
    "\\cos\\theta & \\sin\\theta \\\\\\\\\n",
    "-\\sin\\theta & \\cos\\theta\n",
    "\\end{bmatrix}\n",
    "= R(-\\theta)\n",
    "$$\n",
    "\n",
    "**Q.E.D.**\n",
    "\n",
    "- Rotating by $\\theta$ and then by $-\\theta$ returns a point to its original position:\n",
    "  \n",
    "$$\n",
    "R(\\theta) \\cdot R(-\\theta) = I\n",
    "$$\n",
    "\n",
    "So:\n",
    "\n",
    "$$\n",
    "R(\\theta)^{-1} = R(-\\theta)\n",
    "$$\n"
   ]
  },
  {
   "cell_type": "markdown",
   "id": "00feed32",
   "metadata": {},
   "source": [
    "### 3.\n",
    " Prove that $ R(θ_1)R(θ_2)=R(θ_1+θ_2)$ using geometric identities."
   ]
  },
  {
   "cell_type": "markdown",
   "id": "7f17ba79",
   "metadata": {},
   "source": [
    "if we use trig identites, we can solve.\n",
    "\n",
    "From trigonometry:\n",
    "\n",
    "- $\\cos(\\theta_1 + \\theta_2) = \\cos\\theta_1 \\cos\\theta_2 - \\sin\\theta_1 \\sin\\theta_2$\n",
    "- $\\sin(\\theta_1 + \\theta_2) = \\sin\\theta_1 \\cos\\theta_2 + \\cos\\theta_1 \\sin\\theta_2$"
   ]
  },
  {
   "cell_type": "markdown",
   "id": "df98b1db",
   "metadata": {},
   "source": [
    "### 4. \n",
    "Give examples of 3D rotation matrices for which  $R_1R_2≠R_2R_1$."
   ]
  },
  {
   "cell_type": "markdown",
   "id": "d3871ab3",
   "metadata": {},
   "source": [
    " 3D 회전행렬에서 $R_1 R_2 \\ne R_2 R_1$ 인 예시\n",
    "\n",
    "3차원 회전 행렬은 일반적으로 교환법칙을 만족하지 않는다.  \n",
    "즉,\n",
    "\n",
    "$$\n",
    "R_1 R_2 \\ne R_2 R_1\n",
    "$$\n",
    "\n",
    "가 성립한다.\n",
    "\n",
    "예시로, 다음 두 회전 행렬을 생각해보자:\n",
    "\n",
    "- $R_1$: x축 기준으로 $+90^\\circ$ 회전\n",
    "- $R_2$: y축 기준으로 $+90^\\circ$ 회전\n",
    "\n",
    "$$\n",
    "R_1 =\n",
    "\\begin{bmatrix}\n",
    "1 & 0 & 0 \\\\\\\\\n",
    "0 & 0 & -1 \\\\\\\\\n",
    "0 & 1 & 0\n",
    "\\end{bmatrix}\n",
    "\\quad\n",
    "R_2 =\n",
    "\\begin{bmatrix}\n",
    "0 & 0 & 1 \\\\\\\\\n",
    "0 & 1 & 0 \\\\\\\\\n",
    "-1 & 0 & 0\n",
    "\\end{bmatrix}\n",
    "$$\n",
    "\n",
    "행렬 곱 계산 결과:\n",
    "\n",
    "$$\n",
    "R_1 R_2 =\n",
    "\\begin{bmatrix}\n",
    "0 & 0 & 1 \\\\\\\\\n",
    "1 & 0 & 0 \\\\\\\\\n",
    "0 & 1 & 0\n",
    "\\end{bmatrix}\n",
    "\\quad\n",
    "\\ne\n",
    "\\quad\n",
    "R_2 R_1 =\n",
    "\\begin{bmatrix}\n",
    "0 & 1 & 0 \\\\\\\\\n",
    "0 & 0 & -1 \\\\\\\\\n",
    "-1 & 0 & 0\n",
    "\\end{bmatrix}\n",
    "$$\n",
    "\n",
    "\n"
   ]
  },
  {
   "cell_type": "markdown",
   "id": "d65f15e5",
   "metadata": {},
   "source": [
    "### 5. \n",
    "Prove that vector length is preserved under rotation  $∥R(θ)x∥=∥x∥$. Use this fact to prove that distance is preserved under rigid transforms."
   ]
  },
  {
   "cell_type": "markdown",
   "id": "78e3de35",
   "metadata": {},
   "source": [
    "벡터 $x$에 대해 회전 $R(\\theta)$를 적용한 길이:\n",
    "\n",
    "$$\n",
    "\\| R(\\theta)x \\|^2 = (R x)^T (R x) = x^T R^T R x = x^T I x = \\| x \\|^2\n",
    "$$\n",
    "\n",
    "따라서,\n",
    "\n",
    "$$\n",
    "\\| R(\\theta)x \\| = \\| x \\|\n",
    "$$\n",
    "\n",
    "---\n",
    "\n",
    "두 점 $x$, $y$에 대해 강체변환 $T(x) = R x + t$ 를 적용하면:\n",
    "\n",
    "$$\n",
    "\\| T(x) - T(y) \\| = \\| R(x - y) \\| = \\| x - y \\|\n",
    "$$\n",
    "\n",
    "---\n",
    "\n",
    "결론: 회전은 벡터의 길이를 보존하고, 강체변환은 두 점 사이의 거리를 보존한다.\n"
   ]
  },
  {
   "cell_type": "markdown",
   "id": "4862aa40",
   "metadata": {},
   "source": []
  }
 ],
 "metadata": {
  "kernelspec": {
   "display_name": ".venv",
   "language": "python",
   "name": "python3"
  },
  "language_info": {
   "codemirror_mode": {
    "name": "ipython",
    "version": 3
   },
   "file_extension": ".py",
   "mimetype": "text/x-python",
   "name": "python",
   "nbconvert_exporter": "python",
   "pygments_lexer": "ipython3",
   "version": "3.12.3"
  }
 },
 "nbformat": 4,
 "nbformat_minor": 5
}
